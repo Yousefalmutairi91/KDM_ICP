{
  "nbformat": 4,
  "nbformat_minor": 0,
  "metadata": {
    "colab": {
      "name": "Untitled0.ipynb",
      "provenance": [],
      "mount_file_id": "1g3SIyC8DEiAczwACVZwvWE4y-WPecrEU",
      "authorship_tag": "ABX9TyPKrUsiyhnDLdP2rmqq4JzP",
      "include_colab_link": true
    },
    "kernelspec": {
      "name": "python3",
      "display_name": "Python 3"
    }
  },
  "cells": [
    {
      "cell_type": "markdown",
      "metadata": {
        "id": "view-in-github",
        "colab_type": "text"
      },
      "source": [
        "<a href=\"https://colab.research.google.com/github/Yousefalmutairi91/KDM_ICP/blob/main/ICP_1.ipynb\" target=\"_parent\"><img src=\"https://colab.research.google.com/assets/colab-badge.svg\" alt=\"Open In Colab\"/></a>"
      ]
    },
    {
      "cell_type": "code",
      "metadata": {
        "id": "SjWZJeIi3ITf"
      },
      "source": [
        "import numpy as np\n",
        "import pandas as pd\n",
        "import nltk\n",
        "from nltk import ngrams, word_tokenize, bigrams, trigrams\n",
        "from nltk.corpus import stopwords\n",
        "import matplotlib.pyplot as plt\n",
        "import string\n"
      ],
      "execution_count": 13,
      "outputs": []
    },
    {
      "cell_type": "code",
      "metadata": {
        "colab": {
          "base_uri": "https://localhost:8080/"
        },
        "id": "nYIqL_gZGynp",
        "outputId": "4680e84a-be32-48c0-e31b-01170bd07927"
      },
      "source": [
        "from google.colab import drive\n",
        "drive.mount ('/content/drive')\n"
      ],
      "execution_count": 14,
      "outputs": [
        {
          "output_type": "stream",
          "text": [
            "Drive already mounted at /content/drive; to attempt to forcibly remount, call drive.mount(\"/content/drive\", force_remount=True).\n"
          ],
          "name": "stdout"
        }
      ]
    },
    {
      "cell_type": "code",
      "metadata": {
        "colab": {
          "base_uri": "https://localhost:8080/",
          "height": 100
        },
        "id": "nI_2SL5VHJur",
        "outputId": "014858f3-b95e-4fb2-b573-b3ef8010ffa8"
      },
      "source": [
        "text = pd.read_csv (\"/content/drive/MyDrive/data_file.txt\",delimiter= \"\\t\")\n",
        "text.head()\n"
      ],
      "execution_count": 15,
      "outputs": [
        {
          "output_type": "execute_result",
          "data": {
            "text/html": [
              "<div>\n",
              "<style scoped>\n",
              "    .dataframe tbody tr th:only-of-type {\n",
              "        vertical-align: middle;\n",
              "    }\n",
              "\n",
              "    .dataframe tbody tr th {\n",
              "        vertical-align: top;\n",
              "    }\n",
              "\n",
              "    .dataframe thead th {\n",
              "        text-align: right;\n",
              "    }\n",
              "</style>\n",
              "<table border=\"1\" class=\"dataframe\">\n",
              "  <thead>\n",
              "    <tr style=\"text-align: right;\">\n",
              "      <th></th>\n",
              "      <th>Text Analytics has lots of applications in today's online world. By analyzing tweets on Twitter, we can find trending news and peoples reaction on a particular event. Amazon can understand user feedback or review on the specific product. BookMyShow can discover people's opinion about the movie. Youtube can also analyze and understand peoples viewpoints on a video.</th>\n",
              "    </tr>\n",
              "  </thead>\n",
              "  <tbody>\n",
              "  </tbody>\n",
              "</table>\n",
              "</div>"
            ],
            "text/plain": [
              "Empty DataFrame\n",
              "Columns: [Text Analytics has lots of applications in today's online world. By analyzing tweets on Twitter, we can find trending news and peoples reaction on a particular event. Amazon can understand user feedback or review on the specific product. BookMyShow can discover people's opinion about the movie. Youtube can also analyze and understand peoples viewpoints on a video.]\n",
              "Index: []"
            ]
          },
          "metadata": {
            "tags": []
          },
          "execution_count": 15
        }
      ]
    },
    {
      "cell_type": "code",
      "metadata": {
        "colab": {
          "base_uri": "https://localhost:8080/"
        },
        "id": "kH5Xi2N8Q7W5",
        "outputId": "dc3f95b3-8e01-40e8-fb3f-420dcd6bfeb0"
      },
      "source": [
        "txt = text.to_string()\n",
        "print (txt)\n"
      ],
      "execution_count": 16,
      "outputs": [
        {
          "output_type": "stream",
          "text": [
            "Empty DataFrame\n",
            "Columns: [Text Analytics has lots of applications in today's online world. By analyzing tweets on Twitter, we can find trending news and peoples reaction on a particular event. Amazon can understand user feedback or review on the specific product. BookMyShow can discover people's opinion about the movie. Youtube can also analyze and understand peoples viewpoints on a video.]\n",
            "Index: []\n"
          ],
          "name": "stdout"
        }
      ]
    },
    {
      "cell_type": "markdown",
      "metadata": {
        "id": "-V4P0Dm2wtg1"
      },
      "source": [
        "Here I asked to split the sentences to newlines - after (.)"
      ]
    },
    {
      "cell_type": "code",
      "metadata": {
        "colab": {
          "base_uri": "https://localhost:8080/"
        },
        "id": "XjkVJzejwmLS",
        "outputId": "b1c9eef1-6b57-4139-8e0b-5c3bb6bd5dd0"
      },
      "source": [
        "lines = txt.split('.')\n",
        "for line in lines:\n",
        "  print(line)"
      ],
      "execution_count": 23,
      "outputs": [
        {
          "output_type": "stream",
          "text": [
            "Empty DataFrame\n",
            "Columns: [Text Analytics has lots of applications in today's online world\n",
            " By analyzing tweets on Twitter, we can find trending news and peoples reaction on a particular event\n",
            " Amazon can understand user feedback or review on the specific product\n",
            " BookMyShow can discover people's opinion about the movie\n",
            " Youtube can also analyze and understand peoples viewpoints on a video\n",
            "]\n",
            "Index: []\n"
          ],
          "name": "stdout"
        }
      ]
    },
    {
      "cell_type": "code",
      "metadata": {
        "colab": {
          "base_uri": "https://localhost:8080/"
        },
        "id": "jDI59-URz5L9",
        "outputId": "920e3dfa-b2e6-4827-e712-30d5f0794ba3"
      },
      "source": [
        "df = txt.replace('Twitter','Facebook')\n",
        "print (df)"
      ],
      "execution_count": 24,
      "outputs": [
        {
          "output_type": "stream",
          "text": [
            "Empty DataFrame\n",
            "Columns: [Text Analytics has lots of applications in today's online world. By analyzing tweets on Facebook, we can find trending news and peoples reaction on a particular event. Amazon can understand user feedback or review on the specific product. BookMyShow can discover people's opinion about the movie. Youtube can also analyze and understand peoples viewpoints on a video.]\n",
            "Index: []\n"
          ],
          "name": "stdout"
        }
      ]
    },
    {
      "cell_type": "code",
      "metadata": {
        "colab": {
          "base_uri": "https://localhost:8080/"
        },
        "id": "-r4htxAgq1CJ",
        "outputId": "2397160d-2da2-40aa-a63a-5cc73a515597"
      },
      "source": [
        "words = txt.split()\n",
        "\n",
        "bi_grams = nltk.ngrams(words, 2)\n",
        "for gram in bi_grams:\n",
        "    print(gram)"
      ],
      "execution_count": 25,
      "outputs": [
        {
          "output_type": "stream",
          "text": [
            "('Empty', 'DataFrame')\n",
            "('DataFrame', 'Columns:')\n",
            "('Columns:', '[Text')\n",
            "('[Text', 'Analytics')\n",
            "('Analytics', 'has')\n",
            "('has', 'lots')\n",
            "('lots', 'of')\n",
            "('of', 'applications')\n",
            "('applications', 'in')\n",
            "('in', \"today's\")\n",
            "(\"today's\", 'online')\n",
            "('online', 'world.')\n",
            "('world.', 'By')\n",
            "('By', 'analyzing')\n",
            "('analyzing', 'tweets')\n",
            "('tweets', 'on')\n",
            "('on', 'Twitter,')\n",
            "('Twitter,', 'we')\n",
            "('we', 'can')\n",
            "('can', 'find')\n",
            "('find', 'trending')\n",
            "('trending', 'news')\n",
            "('news', 'and')\n",
            "('and', 'peoples')\n",
            "('peoples', 'reaction')\n",
            "('reaction', 'on')\n",
            "('on', 'a')\n",
            "('a', 'particular')\n",
            "('particular', 'event.')\n",
            "('event.', 'Amazon')\n",
            "('Amazon', 'can')\n",
            "('can', 'understand')\n",
            "('understand', 'user')\n",
            "('user', 'feedback')\n",
            "('feedback', 'or')\n",
            "('or', 'review')\n",
            "('review', 'on')\n",
            "('on', 'the')\n",
            "('the', 'specific')\n",
            "('specific', 'product.')\n",
            "('product.', 'BookMyShow')\n",
            "('BookMyShow', 'can')\n",
            "('can', 'discover')\n",
            "('discover', \"people's\")\n",
            "(\"people's\", 'opinion')\n",
            "('opinion', 'about')\n",
            "('about', 'the')\n",
            "('the', 'movie.')\n",
            "('movie.', 'Youtube')\n",
            "('Youtube', 'can')\n",
            "('can', 'also')\n",
            "('also', 'analyze')\n",
            "('analyze', 'and')\n",
            "('and', 'understand')\n",
            "('understand', 'peoples')\n",
            "('peoples', 'viewpoints')\n",
            "('viewpoints', 'on')\n",
            "('on', 'a')\n",
            "('a', 'video.]')\n",
            "('video.]', 'Index:')\n",
            "('Index:', '[]')\n"
          ],
          "name": "stdout"
        }
      ]
    }
  ]
}